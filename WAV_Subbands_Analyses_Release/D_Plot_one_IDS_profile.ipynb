{
 "cells": [
  {
   "cell_type": "markdown",
   "metadata": {},
   "source": [
    "# Plot one IDS profile\n",
    "\n",
    "    creation date:     16/08/2024, 21h23\n",
    "\n",
    "    modification date: 07/10/2024, 21h22\n",
    "\n",
    "    author: Millot Laurent\n",
    "\n"
   ]
  },
  {
   "cell_type": "code",
   "execution_count": 1,
   "metadata": {
    "tags": []
   },
   "outputs": [],
   "source": [
    "import pathlib\n",
    "\n",
    "import Sub_ToBo.tools_files_folders.tools_files_folders as fldrdTls\n",
    "import Sub_ToBo.tools_ids_plot.manage_ids_profiles_plots as pltTls\n",
    "\n",
    "\n",
    "\n",
    "main_path = pathlib.Path.cwd()\n",
    "\n",
    "tools_data_path = main_path / \"data_subbands_tools\"\n",
    "mappings_def_path = tools_data_path / \"mappings_definitions\"\n",
    "\n",
    "analyses_data_path = main_path / \"data_analyses_results\"\n",
    "csv_path = analyses_data_path / \"ids_profiles_csv\"\n",
    "fig_path = analyses_data_path / \"ids_profiles_figures\"\n",
    "\n",
    "\n",
    "# ----------\n",
    "def process_plots(files_list, mapping_name, fig_subfolder_name, I_scale=True):\n",
    "\n",
    "    the_fig_path = fig_path / mapping_name / fig_subfolder_name\n",
    "\n",
    "    csv_files_path = csv_path / mapping_name / subfolder_name\n",
    "\n",
    "    fldrdTls.create_new_subfolder(the_fig_path)\n",
    "    \n",
    "    if I_scale:      \n",
    "        pltTls.manage_scaled_ids_plotting(files_list, csv_files_path, \n",
    "                                          the_fig_path, mappings_def_path)\n",
    "\n",
    "    else:\n",
    "        pltTls.manage_unscaled_ids_plotting(files_list, csv_files_path, \n",
    "                                            the_fig_path, mappings_def_path)\n",
    "    \n",
    "    print()\n",
    "    print(\"-\" * 15)\n",
    "    print(f\"studied IDS profile: {files_list[0]}\")\n",
    "    print()\n",
    "    print(\"plot of the IDS profile can be found at the following location:\")\n",
    "    print(the_fig_path)\n",
    "    print()\n"
   ]
  },
  {
   "cell_type": "code",
   "execution_count": 2,
   "metadata": {},
   "outputs": [
    {
     "name": "stdout",
     "output_type": "stream",
     "text": [
      "\n",
      "---------------\n",
      "studied IDS profile: one_44263A.ids.csv\n",
      "\n",
      "plot of the IDS profile can be found at the following location:\n",
      "/Users/laurentmillot/Documents/WAV_Subbands_Analyses_Test/data_analyses_results/ids_profiles_figures/Audio/trial\n",
      "\n"
     ]
    }
   ],
   "source": [
    "# chosen frequency mapping\n",
    "mapping_name = \"Leipp\"\n",
    "\n",
    "# path to the subfolder where the chosen IDS profile can be found\n",
    "subfolder_name = \"IDS_test_sounds_2\"\n",
    "\n",
    "# list of some IDS profiles which can be found in the chosen subfolder\n",
    "profiles_list = [\"Autopscience_44263L.ids.csv\", \"english_44263L.ids.csv\",\n",
    "                 \"classe_VS_terrain_44263L.ids.csv\", \"french_44263L.ids.csv\",\n",
    "                 \"strange_44263L.ids.csv\"]\n",
    "\n",
    "# index of the chosen IDS profile to be plotted\n",
    "profile_index = 1\n",
    "\n",
    "# path to the location where the IDS profile plot will be saved\n",
    "fig_subfolder_name = \"single_plot_test\"\n",
    "\n",
    "# -----\n",
    "# plots of one IDS profile\n",
    "# no scaling can be performed with only one IDS profile to be plotted\n",
    "I_scale = False\n",
    "\n",
    "# get the profile name\n",
    "profile_name = profiles_list[profile_index]\n",
    "\n",
    "# manage the creation and saving of the plotted IDS profile\n",
    "process_plots([profile_name], mapping_name, fig_subfolder_name, I_scale)"
   ]
  },
  {
   "cell_type": "code",
   "execution_count": null,
   "metadata": {},
   "outputs": [],
   "source": []
  }
 ],
 "metadata": {
  "kernelspec": {
   "display_name": "Python 3 (ipykernel)",
   "language": "python",
   "name": "python3"
  },
  "language_info": {
   "codemirror_mode": {
    "name": "ipython",
    "version": 3
   },
   "file_extension": ".py",
   "mimetype": "text/x-python",
   "name": "python",
   "nbconvert_exporter": "python",
   "pygments_lexer": "ipython3",
   "version": "3.11.4"
  }
 },
 "nbformat": 4,
 "nbformat_minor": 4
}
