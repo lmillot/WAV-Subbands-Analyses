{
 "cells": [
  {
   "cell_type": "markdown",
   "metadata": {},
   "source": [
    "# Delete a frequency mapping\n",
    "\n",
    "    creation date:     16/08/2024, 14h37\n",
    "\n",
    "    modification date: 07/10/2024, 15h05\n",
    "\n",
    "    author: Millot Laurent\n",
    "\n"
   ]
  },
  {
   "cell_type": "markdown",
   "metadata": {},
   "source": [
    "## CAUTION: Deleting a frequency mapping has side effects!\n",
    "\n",
    "Indeed, deleting a frequency mapping deletes:\n",
    "- related main subfolder (and subfolders within it) within data_analyses_results \n",
    "- related main subfolder (and subfolders within it) within data_resynthesis\n",
    "- frequency maping definition within data_subbands_tools/mappings_definitions\n",
    "- subbands filters set within data_subbands_tools/subbands_filters\n"
   ]
  },
  {
   "cell_type": "code",
   "execution_count": 1,
   "metadata": {
    "tags": []
   },
   "outputs": [],
   "source": [
    "import Sub_ToBo.tools_ids_configuration.tools_mapping_creation as mpgTls\n",
    "\n",
    "\n",
    "    \n",
    "# ----------\n",
    "def process_mapping_destruction(mapping_name, sample_rate, ripple_dB=80.0, width_Hz=5.0):\n",
    "    \n",
    "    mpgTls.remove_one_mapping(mapping_name, sample_rate, ripple_dB, width_Hz)\n",
    "\n",
    "    print(\"2. After mapping elimination\") \n",
    "    mpgTls.list_installed_mappings()\n",
    "   "
   ]
  },
  {
   "cell_type": "code",
   "execution_count": 2,
   "metadata": {},
   "outputs": [
    {
     "name": "stdout",
     "output_type": "stream",
     "text": [
      "1. Before mapping elimination\n",
      "\n",
      "Installed frequency mappings:\n",
      "\n",
      "Test / T / 5 / [0, 1000, 2000, 4000, 8000, 22050]\n",
      "\n",
      "Audio / A / 13 / [0, 30, 60, 80, 100, 120, 250, 500, 1000, 2000, 4000, 8000, 16000, 22050]\n",
      "\n",
      "Leipp / L / 10 / [0, 50, 200, 400, 800, 1200, 1800, 3000, 6000, 15000, 22050]\n",
      "\n",
      "\n"
     ]
    }
   ],
   "source": [
    "print(\"1. Before mapping elimination\")\n",
    "mpgTls.list_installed_mappings()"
   ]
  },
  {
   "cell_type": "code",
   "execution_count": 3,
   "metadata": {},
   "outputs": [
    {
     "name": "stdout",
     "output_type": "stream",
     "text": [
      "2. After mapping elimination\n",
      "\n",
      "Installed frequency mappings:\n",
      "\n",
      "Audio / A / 13 / [0, 30, 60, 80, 100, 120, 250, 500, 1000, 2000, 4000, 8000, 16000, 22050]\n",
      "\n",
      "Leipp / L / 10 / [0, 50, 200, 400, 800, 1200, 1800, 3000, 6000, 15000, 22050]\n",
      "\n",
      "\n"
     ]
    }
   ],
   "source": [
    "# minimum attenuation in stop-band (in dB)\n",
    "ripple_dB = 80.0\n",
    "\n",
    "# width of the transition subband (in Hz)\n",
    "width_Hz = 5.0\n",
    "\n",
    "# mapping parameters\n",
    "sample_rate = 44100\n",
    "mapping_name = \"Test\"\n",
    "\n",
    "process_mapping_destruction(mapping_name, sample_rate, ripple_dB, width_Hz)\n"
   ]
  },
  {
   "cell_type": "code",
   "execution_count": null,
   "metadata": {},
   "outputs": [],
   "source": []
  }
 ],
 "metadata": {
  "kernelspec": {
   "display_name": "Python 3 (ipykernel)",
   "language": "python",
   "name": "python3"
  },
  "language_info": {
   "codemirror_mode": {
    "name": "ipython",
    "version": 3
   },
   "file_extension": ".py",
   "mimetype": "text/x-python",
   "name": "python",
   "nbconvert_exporter": "python",
   "pygments_lexer": "ipython3",
   "version": "3.11.4"
  }
 },
 "nbformat": 4,
 "nbformat_minor": 4
}
