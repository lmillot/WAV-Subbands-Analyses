{
 "cells": [
  {
   "cell_type": "markdown",
   "metadata": {},
   "source": [
    "# Perform IDS analyses for a given folder of WAV files\n",
    "\n",
    "    creation date:     10/08/2024, 11h31\n",
    "\n",
    "    modification date: 07/10/2024, 21h09\n",
    "\n",
    "    author: Millot Laurent\n",
    "\n"
   ]
  },
  {
   "cell_type": "markdown",
   "metadata": {},
   "source": [
    "As indicated by the title, this JNB performs the IDS analyses, for a chosen frequency mapping, of all the WAV files existing within the defined folder"
   ]
  },
  {
   "cell_type": "code",
   "execution_count": 1,
   "metadata": {
    "tags": []
   },
   "outputs": [],
   "source": [
    "import pathlib\n",
    "\n",
    "import Sub_ToBo.tools_ids.manage_ids_analyses as anlTls\n",
    "import Sub_ToBo.tools_files_folders.tools_files_folders as fldrTls\n",
    "\n",
    "main_path = pathlib.Path.cwd()\n",
    "\n",
    "# mappings definition and related filters sets\n",
    "tools_data_path = main_path / \"data_subbands_tools\"\n",
    "mappings_def_path = tools_data_path / \"mappings_definitions\"\n",
    "subbands_filters_path = tools_data_path / \"subbands_filters\"\n",
    "\n",
    "# analyses results (csv files)\n",
    "analyses_data_path = main_path / \"data_analyses_results\"\n",
    "csv_path = analyses_data_path / \"ids_profiles_csv\"\n",
    "fig_path = analyses_data_path / \"ids_profiles_figures\"\n",
    "\n",
    "\n",
    "\n",
    "# ----------\n",
    "def process_IDS_analyses_for_a_folder(corpus_path, mapping_name, folder_name):\n",
    "    \n",
    "    print()\n",
    "    print(\"-\" * 20)\n",
    "    print(\"IDS analyses\")\n",
    "    print(f\"folder to be analyzed: {folder_name}\")\n",
    "    print(f\"using frequency mapping:  {mapping_name}\")\n",
    "    print()\n",
    "\n",
    "    files_names_list = fldrTls.list_given_extension_files(corpus_path, \".wav\")\n",
    "    alias_names_list = []\n",
    "\n",
    "    for the_file in files_names_list:\n",
    "        the_file = the_file[:-9] + \".wav\"\n",
    "        alias_names_list.append(the_file)\n",
    "\n",
    "    main_profiles_path = csv_path / mapping_name\n",
    "    fldrTls.create_new_subfolder(main_profiles_path)\n",
    "    \n",
    "    ids_profiles_path  = main_profiles_path / folder_name\n",
    "    fldrTls.create_new_subfolder(ids_profiles_path)\n",
    "    \n",
    "    anlTls.analyses_the_corpus(mapping_name, files_names_list, alias_names_list, \n",
    "                               corpus_path, mappings_def_path, subbands_filters_path,\n",
    "                               ids_profiles_path)\n"
   ]
  },
  {
   "cell_type": "markdown",
   "metadata": {},
   "source": [
    "## IDS analyses for a whole folder of WAV files"
   ]
  },
  {
   "cell_type": "code",
   "execution_count": 2,
   "metadata": {},
   "outputs": [
    {
     "name": "stdout",
     "output_type": "stream",
     "text": [
      "\n",
      "--------------------\n",
      "IDS analyses\n",
      "folder to be analyzed: IDS_test_sounds_2\n",
      "using frequency mapping:  Leipp\n",
      "\n",
      "----------\n",
      "processing file #1  / 5\n",
      "file name: french_m441.wav\n",
      "\n",
      "----------\n",
      "processing file #2  / 5\n",
      "file name: Autopscience_m441.wav\n",
      "\n",
      "----------\n",
      "processing file #3  / 5\n",
      "file name: english_m441.wav\n",
      "\n",
      "----------\n",
      "processing file #4  / 5\n",
      "file name: strange_s441.wav\n",
      "\n",
      "----------\n",
      "processing file #5  / 5\n",
      "file name: classe_VS_terrain_s441.wav\n",
      "\n"
     ]
    }
   ],
   "source": [
    "## IDS analyses for a whole folder of WAV files\n",
    "# chosen frequency mapping\n",
    "mapping_name = \"Leipp\"\n",
    "\n",
    "# pre-defined subfolders names where there are WAV files\n",
    "folder_names_list = [\"IDS_test_sounds\", \"IDS_test_sounds_2\"]\n",
    "folder_name_index = 1\n",
    "\n",
    "# -----\n",
    "folder_name = folder_names_list[folder_name_index]\n",
    "\n",
    "# path to the subfolders defined in folder_names_list\n",
    "# main_path.parent: parent folder of WAV_Subbands_Analyses_Release\n",
    "corpus_path = main_path.parent / \"sounds\" / folder_name\n",
    "\n",
    "# launches the analyses\n",
    "process_IDS_analyses_for_a_folder(corpus_path, mapping_name, folder_name)\n"
   ]
  },
  {
   "cell_type": "code",
   "execution_count": null,
   "metadata": {},
   "outputs": [],
   "source": []
  }
 ],
 "metadata": {
  "kernelspec": {
   "display_name": "Python 3 (ipykernel)",
   "language": "python",
   "name": "python3"
  },
  "language_info": {
   "codemirror_mode": {
    "name": "ipython",
    "version": 3
   },
   "file_extension": ".py",
   "mimetype": "text/x-python",
   "name": "python",
   "nbconvert_exporter": "python",
   "pygments_lexer": "ipython3",
   "version": "3.11.4"
  }
 },
 "nbformat": 4,
 "nbformat_minor": 4
}
