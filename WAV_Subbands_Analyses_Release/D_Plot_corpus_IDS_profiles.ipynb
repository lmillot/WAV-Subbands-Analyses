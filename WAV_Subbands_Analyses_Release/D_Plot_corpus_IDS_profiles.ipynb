{
 "cells": [
  {
   "cell_type": "markdown",
   "metadata": {},
   "source": [
    "# Plot the IDS profiles for a chosen folder\n",
    "\n",
    "    creation date:     16/08/2024, 14h46\n",
    "\n",
    "    modification date: 07/10/2024, 21h23\n",
    "\n",
    "    author: Millot Laurent\n",
    "\n"
   ]
  },
  {
   "cell_type": "code",
   "execution_count": 1,
   "metadata": {
    "tags": []
   },
   "outputs": [],
   "source": [
    "import pathlib\n",
    "\n",
    "import Sub_ToBo.tools_files_folders.tools_files_folders as fldrdTls\n",
    "import Sub_ToBo.tools_ids_plot.manage_ids_profiles_plots as pltTls\n",
    "\n",
    "\n",
    "\n",
    "\n",
    "main_path = pathlib.Path.cwd()\n",
    "\n",
    "tools_data_path = main_path / \"data_subbands_tools\"\n",
    "mappings_def_path = tools_data_path / \"mappings_definitions\"\n",
    "\n",
    "analyses_data_path = main_path / \"data_analyses_results\"\n",
    "csv_path = analyses_data_path / \"ids_profiles_csv\"\n",
    "fig_path = analyses_data_path / \"ids_profiles_figures\"\n",
    "\n",
    "\n",
    "# ----------\n",
    "def process_plots(mapping_name, subfolder_name, I_scale=True):\n",
    "    \n",
    "    # path to the IDS profiles to be plotted \n",
    "    # (in subfolder named subsubfolder_name)\n",
    "    main_csv_files_path = csv_path / mapping_name\n",
    "    csv_files_path = main_csv_files_path / subfolder_name\n",
    "\n",
    "    # list all the IDS profiles existing in the subfolder\n",
    "    files_list = fldrdTls.list_given_extension_files(csv_files_path, \".csv\")\n",
    "    \n",
    "    \n",
    "    # path to the main figures folder for the chosen frequency mapping\n",
    "    main_fig_path = fig_path / mapping_name\n",
    "\n",
    "    if I_scale:      \n",
    "        # add a postfix to the subfolder name where the IDS profiles plots \n",
    "        # will be saved\n",
    "        fig_subfolder_name = subfolder_name + \"_scaled\"\n",
    "\n",
    "        # complete the definition of the subfolder where the IDS profiles plots\n",
    "        # will be saved\n",
    "        the_fig_path = main_fig_path / fig_subfolder_name\n",
    "        fldrdTls.create_new_subfolder(the_fig_path)\n",
    "\n",
    "        pltTls.manage_scaled_ids_plotting(files_list, csv_files_path, \n",
    "                                          the_fig_path, mappings_def_path)\n",
    "\n",
    "    else:\n",
    "        # add a postfix to the subfolder name where the IDS profiles plots \n",
    "        # will be saved\n",
    "        fig_subfolder_name = subfolder_name + \"_unscaled\"\n",
    "\n",
    "        # complete the definition of the subfolder where the IDS profiles plots\n",
    "        # will be saved\n",
    "        the_fig_path = main_fig_path / fig_subfolder_name\n",
    "        fldrdTls.create_new_subfolder(the_fig_path)       \n",
    "        \n",
    "        pltTls.manage_unscaled_ids_plotting(files_list, csv_files_path, \n",
    "                                            the_fig_path, mappings_def_path)\n",
    "\n",
    "    print()\n",
    "    print(\"-\" * 15)\n",
    "    the_subfolder = str(csv_files_path)\n",
    "    the_subfolder = the_subfolder.split(\"/\")[-1]\n",
    "    print(f\"subfolder: {the_subfolder}\")\n",
    "    print(\"figures created and saved at the following location:\")\n",
    "    print(the_fig_path)\n",
    "    print()\n",
    "    print(f\"scaling: {I_scale}\")\n",
    "    print()\n",
    "    print()\n"
   ]
  },
  {
   "cell_type": "code",
   "execution_count": 2,
   "metadata": {},
   "outputs": [
    {
     "name": "stdout",
     "output_type": "stream",
     "text": [
      "\n",
      "---------------\n",
      "subfolder: test_Audio\n",
      "figures created and saved at the following location:\n",
      "/Users/laurentmillot/Documents/WAV_Subbands_Analyses_Test/data_analyses_results/ids_profiles_figures/Audio/test_Audio_scaled\n",
      "\n",
      "scaling: True\n",
      "\n",
      "\n"
     ]
    }
   ],
   "source": [
    "# name of the chosen frequency mapping\n",
    "mapping_name = \"Audio\"\n",
    "\n",
    "# name of the subfolder wher the IDS profiles to plot are located\n",
    "subfolder_name = \"IDS_test_sounds_2\"\n",
    "\n",
    "\n",
    "# -----------------------------------------\n",
    "# --- first example of use of this tool ---\n",
    "# -----------------------------------------\n",
    "# plots of the IDS profiles with the same scale to perform comparisons of \n",
    "# these IDS profiles\n",
    "# scale's boolean must be equal to True\n",
    "I_scale = True\n",
    "\n",
    "# manage the creation of all plots and their saving\n",
    "process_plots(mapping_name, subfolder_name, I_scale)\n"
   ]
  },
  {
   "cell_type": "code",
   "execution_count": 3,
   "metadata": {},
   "outputs": [
    {
     "name": "stdout",
     "output_type": "stream",
     "text": [
      "\n",
      "---------------\n",
      "subfolder: test_Audio\n",
      "figures created and saved at the following location:\n",
      "/Users/laurentmillot/Documents/WAV_Subbands_Analyses_Test/data_analyses_results/ids_profiles_figures/Audio/test_Audio_unscaled\n",
      "\n",
      "scaling: False\n",
      "\n",
      "\n"
     ]
    }
   ],
   "source": [
    "# ------------------------------------------\n",
    "# --- second example of use of this tool ---\n",
    "# ------------------------------------------\n",
    "# plots of the IDS profiles with a different and adapted scale \n",
    "# for each IDS profile\n",
    "# scale's boolean must be equal to False\n",
    "I_scale = False\n",
    "\n",
    "# manage the creation of all plots and their saving\n",
    "process_plots(mapping_name, subfolder_name, I_scale)\n"
   ]
  }
 ],
 "metadata": {
  "kernelspec": {
   "display_name": "Python 3 (ipykernel)",
   "language": "python",
   "name": "python3"
  },
  "language_info": {
   "codemirror_mode": {
    "name": "ipython",
    "version": 3
   },
   "file_extension": ".py",
   "mimetype": "text/x-python",
   "name": "python",
   "nbconvert_exporter": "python",
   "pygments_lexer": "ipython3",
   "version": "3.11.4"
  }
 },
 "nbformat": 4,
 "nbformat_minor": 4
}
