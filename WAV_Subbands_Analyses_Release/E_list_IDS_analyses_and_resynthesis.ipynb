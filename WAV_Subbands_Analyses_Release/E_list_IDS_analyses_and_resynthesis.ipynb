{
 "cells": [
  {
   "cell_type": "markdown",
   "metadata": {},
   "source": [
    "# Perform IDS analyse and resynthesis preparation for a list of WAV files\n",
    "\n",
    "    creation date:     25/08/2024, 20h18\n",
    "\n",
    "    modification date: 07/10/2024, 21h32\n",
    "\n",
    "    author: Millot Laurent\n",
    "\n"
   ]
  },
  {
   "cell_type": "markdown",
   "metadata": {},
   "source": [
    "## IDS analyses for a list of WAV files\n",
    "For each WAV file existing within the list, the tool:\n",
    "- performs the IDS analysis with generation of subbands WAV files\n",
    "- plots the IDS profile\n",
    "- copies the orginal WAV file within data_resynthesis/Data_{mapping_name}/wav_origfiles\n",
    "- saves the WAV subbands files within data_resynthesis/Data_{mapping_name}/wav_sbfiles\n",
    "- saves the plot of the IDS profile within data_resynthesis/Data_{mapping_name}/ids_figures\n",
    "- saves the IDS profile within data_resynthesis/Data_{mapping_name}/ids_profiles_csv\n",
    "\n",
    "This folders' structure is used by the real time resysnthetizer coded in Max related to the mappling frequency (for example, ids_Leipp_resynthesis.maxpat for the Leipp frequency mapping)\n"
   ]
  },
  {
   "cell_type": "code",
   "execution_count": 1,
   "metadata": {
    "tags": []
   },
   "outputs": [],
   "source": [
    "import pathlib\n",
    "\n",
    "import Sub_ToBo.tools_ids.manage_ids_analyses_resynthesis as anlTls\n",
    "import Sub_ToBo.tools_files_folders.tools_files_folders as fldrTls\n",
    "\n",
    "main_path = pathlib.Path.cwd()\n",
    "\n",
    "# mappings definition and related filters sets\n",
    "tools_data_path = main_path / \"data_subbands_tools\"\n",
    "mappings_def_path = tools_data_path / \"mappings_definitions\"\n",
    "subbands_filters_path = tools_data_path / \"subbands_filters\"\n",
    "\n",
    "# analyses results (csv files)\n",
    "data_path = main_path / \"data_resynthesis\"\n",
    "\n",
    "\n",
    "\n",
    "# ----------\n",
    "def process_list_IDS_analyses(corpus_path, wav_files_list, wav_alias_list, \n",
    "                              mapping_name):\n",
    "      \n",
    "    subfolder_name = \"Data_\" + mapping_name\n",
    "    results_main_path = data_path / subfolder_name\n",
    "    fldrTls.create_new_subfolder(results_main_path)\n",
    "\n",
    "    fig_path = results_main_path / \"ids_figures\"\n",
    "    fldrTls.create_new_subfolder(fig_path)\n",
    "\n",
    "    csv_path = results_main_path / \"ids_profiles_csv\"\n",
    "    fldrTls.create_new_subfolder(csv_path)\n",
    "\n",
    "    wav_orig_path = results_main_path / \"wav_origfiles\"\n",
    "    fldrTls.create_new_subfolder(wav_orig_path)\n",
    "\n",
    "    wav_sb_path = results_main_path / \"wav_sbfiles\"\n",
    "    fldrTls.create_new_subfolder(wav_sb_path)\n",
    "\n",
    "    anlTls.analyses_the_corpus(mapping_name, wav_files_list, wav_alias_list, \n",
    "                                corpus_path, mappings_def_path, \n",
    "                                subbands_filters_path, csv_path, fig_path, \n",
    "                                wav_orig_path, wav_sb_path)\n",
    "    \n",
    "    print()\n",
    "    print()\n",
    "    print(\"All needed data have been created\",\n",
    "          f\" within data_resynthesis/{subfolder_name}\")\n",
    "    print()\n",
    "    print(f\"You just need to copy them into the {subfolder_name} subfolder\"\\\n",
    "              + \" used by the Max resynthetizer: \")\n",
    "    print(\"ids_\" + mapping_name + \"_resynthesis.maxpat\")\n"
   ]
  },
  {
   "cell_type": "code",
   "execution_count": 3,
   "metadata": {
    "tags": []
   },
   "outputs": [
    {
     "name": "stdout",
     "output_type": "stream",
     "text": [
      "---------------\n",
      "processing file #1  / 3\n",
      "filename: Autopscience_m441.wav\n",
      "\n",
      "--------------------\n",
      "input_length : 205312\n",
      "buffer_length : 65536\n",
      "last_block_length : 8704\n",
      "blocks_number : 4\n",
      "\n",
      "---------------\n",
      "processing file #2  / 3\n",
      "filename: classe_VS_terrain_s441.wav\n",
      "\n",
      "--------------------\n",
      "input_length : 381440\n",
      "buffer_length : 65536\n",
      "last_block_length : 53760\n",
      "blocks_number : 6\n",
      "\n",
      "---------------\n",
      "processing file #3  / 3\n",
      "filename: strange_s441.wav\n",
      "\n",
      "--------------------\n",
      "input_length : 388608\n",
      "buffer_length : 65536\n",
      "last_block_length : 60928\n",
      "blocks_number : 6\n",
      "\n",
      "\n",
      "\n",
      "All needed data have been created  within data_resynthesis/Data_Leipp\n",
      "\n",
      "You just need to copy them into the Data_Leipp subfolder used by the Max resynthetizer: \n",
      "ids_Leipp_resynthesis.maxpat\n"
     ]
    }
   ],
   "source": [
    "# IDS analyses of a given list of wav files within the same folder\n",
    "# chosen frequency mapping name\n",
    "mapping_name = \"Leipp\"\n",
    "\n",
    "# path to the subfolder where the selected WAV files can be found\n",
    "corpus_path = main_path.parent / \"sounds\" / \"IDS_test_sounds_2\"\n",
    "\n",
    "# list of the names of the chosen WAV files\n",
    "wav_files_list = [\"Autopscience_m441.wav\", \"classe_VS_terrain_s441.wav\", \n",
    "                  \"strange_s441.wav\"]\n",
    "\n",
    "# list of the related alias names\n",
    "wav_alias_list = [\"Autopscience.wav\", \"classe_VS_terrain.wav\", \"strange.wav\"]\n",
    "\n",
    "# management of the whole preparation of IDS resynthesis\n",
    "process_list_IDS_analyses(corpus_path, wav_files_list, wav_alias_list, \n",
    "                          mapping_name)\n"
   ]
  },
  {
   "cell_type": "code",
   "execution_count": null,
   "metadata": {},
   "outputs": [],
   "source": []
  }
 ],
 "metadata": {
  "kernelspec": {
   "display_name": "Python 3 (ipykernel)",
   "language": "python",
   "name": "python3"
  },
  "language_info": {
   "codemirror_mode": {
    "name": "ipython",
    "version": 3
   },
   "file_extension": ".py",
   "mimetype": "text/x-python",
   "name": "python",
   "nbconvert_exporter": "python",
   "pygments_lexer": "ipython3",
   "version": "3.11.4"
  }
 },
 "nbformat": 4,
 "nbformat_minor": 4
}
