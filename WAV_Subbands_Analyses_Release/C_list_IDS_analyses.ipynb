{
 "cells": [
  {
   "cell_type": "markdown",
   "metadata": {},
   "source": [
    "# Perform IDS analyses for a selection of WAV files\n",
    "\n",
    "    creation date:     10/08/2024, 11h31\n",
    "\n",
    "    modification date: 10/10/2024, 00h56\n",
    "\n",
    "    author: Millot Laurent\n",
    "\n"
   ]
  },
  {
   "cell_type": "code",
   "execution_count": 1,
   "metadata": {
    "tags": []
   },
   "outputs": [],
   "source": [
    "import pathlib\n",
    "\n",
    "import Sub_ToBo.tools_ids.manage_ids_analyses as anlTls\n",
    "import Sub_ToBo.tools_files_folders.tools_files_folders as fldrTls\n",
    "\n",
    "\n",
    "\n",
    "main_path = pathlib.Path.cwd()\n",
    "\n",
    "# mappings definition and related filters sets\n",
    "tools_data_path = main_path / \"data_subbands_tools\"\n",
    "mappings_def_path = tools_data_path / \"mappings_definitions\"\n",
    "subbands_filters_path = tools_data_path / \"subbands_filters\"\n",
    "\n",
    "# analyses results (csv files)\n",
    "analyses_data_path = main_path / \"data_analyses_results\"\n",
    "csv_path = analyses_data_path / \"ids_profiles_csv\"\n",
    "fig_path = analyses_data_path / \"ids_profiles_figures\"\n",
    "\n",
    "\n",
    "\n",
    "# ----------\n",
    "def process_IDS_analyses_for_a_files_list(corpus_path, wav_files_list, wav_alias_list, \n",
    "                                          mapping_name):\n",
    "    \n",
    "    print()\n",
    "    print(\"-\" * 20)\n",
    "    print(\"IDS analyses of a selection of WAV files\")\n",
    "    print(f\"using frequency mapping:  {mapping_name}\")\n",
    "    print()\n",
    "    \n",
    "    ids_profiles_path = csv_path / mapping_name\n",
    "    fldrTls.create_new_subfolder(ids_profiles_path)\n",
    "    \n",
    "    anlTls.analyses_the_corpus(mapping_name, wav_files_list, wav_alias_list, \n",
    "                               corpus_path, mappings_def_path, \n",
    "                               subbands_filters_path, ids_profiles_path)\n"
   ]
  },
  {
   "cell_type": "markdown",
   "metadata": {
    "tags": []
   },
   "source": [
    "## IDS analyses of a given list of wav files within the same folder"
   ]
  },
  {
   "cell_type": "code",
   "execution_count": 2,
   "metadata": {},
   "outputs": [
    {
     "name": "stdout",
     "output_type": "stream",
     "text": [
      "\n",
      "--------------------\n",
      "IDS analyses of a selection of WAV files\n",
      "using frequency mapping:  Audio\n",
      "\n",
      "----------\n",
      "processing file #1  / 3\n",
      "file name: trompette34_m441.wav\n",
      "\n",
      "----------\n",
      "processing file #2  / 3\n",
      "file name: yodel_m441_not_good.wav\n",
      "\n",
      "----------\n",
      "processing file #3  / 3\n",
      "file name: chant_anechoique_m441.wav\n",
      "\n"
     ]
    }
   ],
   "source": [
    "# name of the frequency mapping to be used: \n",
    "mapping_name = \"Audio\"\n",
    "\n",
    "# definition of the path where the WAV to be analyzed are located\n",
    "corpus_path = main_path.parent / \"sounds\" / \"IDS_test_sounds_2\"\n",
    "\n",
    "# list of the names of the WAV files to analyze\n",
    "wav_files_list = [\"Autopscience_m441.wav\", \"english_m441.wav\", \n",
    "                  \"french_m441.wav\", \"strange_s441.wav\"]\n",
    "\n",
    "# list of related alias (shorter names) for the WAV files to analyze\n",
    "wav_alias_list = [\"Autopscience.wav\", \"english.wav\", \"french_m441.wav\",\n",
    "                  \"strange\"]\n",
    "\n",
    "process_IDS_analyses_for_a_files_list(corpus_path, wav_files_list, wav_alias_list, \n",
    "                                      mapping_name)"
   ]
  },
  {
   "cell_type": "code",
   "execution_count": null,
   "metadata": {},
   "outputs": [],
   "source": []
  }
 ],
 "metadata": {
  "kernelspec": {
   "display_name": "Python 3 (ipykernel)",
   "language": "python",
   "name": "python3"
  },
  "language_info": {
   "codemirror_mode": {
    "name": "ipython",
    "version": 3
   },
   "file_extension": ".py",
   "mimetype": "text/x-python",
   "name": "python",
   "nbconvert_exporter": "python",
   "pygments_lexer": "ipython3",
   "version": "3.11.4"
  }
 },
 "nbformat": 4,
 "nbformat_minor": 4
}
