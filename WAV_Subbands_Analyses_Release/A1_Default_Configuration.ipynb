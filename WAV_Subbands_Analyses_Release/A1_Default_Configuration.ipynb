{
 "cells": [
  {
   "cell_type": "markdown",
   "metadata": {},
   "source": [
    "# Installation and configuration of the IDS analyses tools\n",
    "\n",
    "    creation date:     10/08/2024, 11h31\n",
    "\n",
    "    modification date: 04/10/2024, 14h34\n",
    "\n",
    "    author: Millot Laurent\n",
    "\n"
   ]
  },
  {
   "cell_type": "markdown",
   "metadata": {},
   "source": [
    "## What this regular version does:\n",
    "\n",
    "- installation of pre-defined mapping(s) (Audio, Leipp, Octaves or Sono)\n",
    "- configuration of the tools (creation of all needed folders and relative\n",
    "  subfolders, of the mapping's files and of sets of the subbands filters)"
   ]
  },
  {
   "cell_type": "code",
   "execution_count": 1,
   "metadata": {
    "tags": []
   },
   "outputs": [],
   "source": [
    "import Sub_ToBo.tools_ids_configuration.tools_mapping_creation as mpgTls\n"
   ]
  },
  {
   "cell_type": "markdown",
   "metadata": {},
   "source": [
    "## Pre-defined frequency mappings\n",
    "convention:\n",
    "mapping name / key letter / subbands number / subbands limits frequencies\n",
    "    \n",
    "mappings:\n",
    "Audio / A / 13 / 0, 30, 60, 80, 100, 120, 250, 500, 1000, 2000, 4000, 8000, 16000\n",
    "    \n",
    "Leipp / L / 10 / 0, 50, 200, 400, 800, 1200, 1800, 3000, 6000, 15000\n",
    "    \n",
    "Octaves / O / 11 / 0, 22, 44, 88, 176, 353, 707, 1414, 2828, 5656, 11313\n",
    "    \n",
    "Sono / S / 14 / 0, 25, 33, 55, 80, 120, 250, 500, 1000, 2000, 4500, 7000, 10000, 15000\n",
    "    "
   ]
  },
  {
   "cell_type": "code",
   "execution_count": 2,
   "metadata": {},
   "outputs": [
    {
     "name": "stdout",
     "output_type": "stream",
     "text": [
      "\n",
      "Installed frequency mappings:\n",
      "\n",
      "Octaves / O / 11 / [0, 22, 44, 88, 176, 353, 707, 1414, 2828, 5656, 11313, 22050]\n",
      "\n",
      "Audio / A / 13 / [0, 30, 60, 80, 100, 120, 250, 500, 1000, 2000, 4000, 8000, 16000, 22050]\n",
      "\n",
      "Leipp / L / 10 / [0, 50, 200, 400, 800, 1200, 1800, 3000, 6000, 15000, 22050]\n",
      "\n",
      "\n"
     ]
    }
   ],
   "source": [
    "# ----- configuration's parameters\n",
    "# minimum attenuation in stop-band (in dB)\n",
    "ripple_dB = 80.0\n",
    "\n",
    "# width of the transition subband (in Hz)\n",
    "width_Hz = 5.0\n",
    "\n",
    "# choose the names of the frequency mappings to be created (at least one mapping)\n",
    "# mapping_names_list = [\"Audio\", \"Leipp\", \"Octaves\", \"Sono\"]\n",
    "mapping_names_list = [\"Octaves\"]\n",
    "\n",
    "# choose the sample rates of the wav files you want to analyse (at least one sample rate)\n",
    "# sample_rates_list = [44100, 48000, 96000]\n",
    "sample_rates_list = [44100]\n",
    "\n",
    "# launch the installation process and the creation of the chosen frequency mappings\n",
    "mpgTls.process_mappings_creation(mapping_names_list, sample_rates_list, ripple_dB, \n",
    "                                width_Hz)\n",
    "\n",
    "mpgTls.list_installed_mappings()"
   ]
  },
  {
   "cell_type": "code",
   "execution_count": null,
   "metadata": {},
   "outputs": [],
   "source": []
  }
 ],
 "metadata": {
  "kernelspec": {
   "display_name": "Python 3 (ipykernel)",
   "language": "python",
   "name": "python3"
  },
  "language_info": {
   "codemirror_mode": {
    "name": "ipython",
    "version": 3
   },
   "file_extension": ".py",
   "mimetype": "text/x-python",
   "name": "python",
   "nbconvert_exporter": "python",
   "pygments_lexer": "ipython3",
   "version": "3.11.4"
  }
 },
 "nbformat": 4,
 "nbformat_minor": 4
}
