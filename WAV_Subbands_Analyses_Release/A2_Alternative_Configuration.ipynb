{
 "cells": [
  {
   "cell_type": "markdown",
   "metadata": {},
   "source": [
    "# Installation and configuration of the IDS analyses tools - alternative version\n",
    "\n",
    "    creation date:     04/10/2024, 10h20\n",
    "\n",
    "    modification date: 07/10/2024, 14h33\n",
    "\n",
    "    author: Millot Laurent\n",
    "\n"
   ]
  },
  {
   "cell_type": "markdown",
   "metadata": {},
   "source": [
    "## What this alternative version does:\n",
    "\n",
    "- no installation of one of the pre-defined mappings (Audio, Leipp, Octaves or Sono)\n",
    "- definition and creation of a frequency mapping defined by the user\n",
    "- configuration of the tools (creation of all needed folders and relative\n",
    "  subfolders, of the mapping's files and of sets of the subbands filters)\n"
   ]
  },
  {
   "cell_type": "code",
   "execution_count": 1,
   "metadata": {
    "tags": []
   },
   "outputs": [],
   "source": [
    "import Sub_ToBo.tools_ids_configuration.tools_mapping_creation as mpgTls\n",
    "\n",
    "\n",
    "# ----------\n",
    "def process_mapping_creation(sample_rate, mapping_name, mapping_key, subbands_number, \n",
    "                      subbands_frequencies_limits_array, ripple_dB=80.0, width_Hz=5.0):\n",
    "    \n",
    "    new_mapping = mpgTls.Mapping(sample_rate, mapping_name, mapping_key, subbands_number, \n",
    "                      subbands_frequencies_limits_array)\n",
    "\n",
    "    mpgTls.create_new_mapping(new_mapping.mapping_name, new_mapping, \n",
    "                          sample_rate, ripple_dB, width_Hz)\n",
    "\n",
    "    print(\"2. After mapping creation\") \n",
    "    mpgTls.list_installed_mappings()\n",
    "   "
   ]
  },
  {
   "cell_type": "markdown",
   "metadata": {},
   "source": [
    "## Examples of pre-defined frequency mappings\n",
    "\n",
    "convention: \n",
    "mapping name / key letter / subbands number / subbands limits frequencies\n",
    "\n",
    "examples:\n",
    "Audio / A / 13 / 0, 30, 60, 80, 100, 120, 250, 500, 1000, 2000, 4000, 8000, 16000\n",
    "    \n",
    "Leipp / L / 10 / 0, 50, 200, 400, 800, 1200, 1800, 3000, 6000, 15000\n",
    "    \n",
    "Octaves / O / 11 / 0, 22, 44, 88, 176, 353, 707, 1414, 2828, 5656, 11313\n",
    "    \n",
    "Sono / S / 14 / 0, 25, 33, 55, 80, 120, 250, 500, 1000, 2000, 4500, 7000, 10000, 15000\n",
    "    "
   ]
  },
  {
   "cell_type": "code",
   "execution_count": 2,
   "metadata": {
    "tags": []
   },
   "outputs": [
    {
     "name": "stdout",
     "output_type": "stream",
     "text": [
      "2. After mapping creation\n",
      "\n",
      "Installed frequency mappings:\n",
      "\n",
      "Test / T / 5 / [0, 1000, 2000, 4000, 8000, 22050]\n",
      "\n",
      "\n"
     ]
    }
   ],
   "source": [
    "# ----- mapping's parameters\n",
    "# minimum attenuation in stop-band (in dB)\n",
    "ripple_dB = 80.0\n",
    "\n",
    "# width of the transition subband (in Hz)\n",
    "width_Hz = 5.0\n",
    "\n",
    "# sample rate (in Hz)\n",
    "sample_rate = 44100\n",
    "\n",
    "# mapping name\n",
    "mapping_name = \"Test\"\n",
    "\n",
    "# capital letter to identify the mapping\n",
    "mapping_key = \"T\"\n",
    "\n",
    "# subbands frequencies without Nyquist frequency (sample_rate // 2) which would be added\n",
    "# automatically during the installation process\n",
    "subbands_frequencies_limits_array = [0, 1000, 2000, 4000, 8000]\n",
    "\n",
    "# number fo the subbands constituting the frequency mapping\n",
    "subbands_number = len(subbands_frequencies_limits_array)\n",
    "\n",
    "# launch the installation process and the creation of the user-defined frequency mapping\n",
    "process_mapping_creation(sample_rate, mapping_name, mapping_key, \n",
    "                         subbands_number,  subbands_frequencies_limits_array, \n",
    "                         ripple_dB, width_Hz)\n"
   ]
  },
  {
   "cell_type": "code",
   "execution_count": null,
   "metadata": {},
   "outputs": [],
   "source": []
  }
 ],
 "metadata": {
  "kernelspec": {
   "display_name": "Python 3 (ipykernel)",
   "language": "python",
   "name": "python3"
  },
  "language_info": {
   "codemirror_mode": {
    "name": "ipython",
    "version": 3
   },
   "file_extension": ".py",
   "mimetype": "text/x-python",
   "name": "python",
   "nbconvert_exporter": "python",
   "pygments_lexer": "ipython3",
   "version": "3.11.4"
  }
 },
 "nbformat": 4,
 "nbformat_minor": 4
}
